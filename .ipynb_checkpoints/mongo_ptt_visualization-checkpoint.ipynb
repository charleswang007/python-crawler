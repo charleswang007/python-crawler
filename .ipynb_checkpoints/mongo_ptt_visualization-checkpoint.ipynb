{
 "cells": [
  {
   "cell_type": "markdown",
   "metadata": {
    "collapsed": true
   },
   "source": [
    "# 統計PTT每日"
   ]
  },
  {
   "cell_type": "code",
   "execution_count": 1,
   "metadata": {},
   "outputs": [
    {
     "name": "stdout",
     "output_type": "stream",
     "text": [
      "distinct 58 records found.\n",
      "['2020-10-11', '2020-10-21', '2020-10-23', '2020-10-24']\n",
      "[2, 1, 1, 54]\n"
     ]
    }
   ],
   "source": [
    "# -*- coding: utf-8 -*-\n",
    "#https://plot.ly/python/ipython-notebook-tutorial/\n",
    "# pip install plotly\n",
    "# conda install -c anaconda nbformat\n",
    "# conda install -c conda-forge nbformat\n",
    "\n",
    "import pymongo as mg\n",
    "import datetime\n",
    "import plotly\n",
    "from datetime import datetime, timedelta\n",
    "\n",
    "%config IPCompleter.greedy=True\n",
    "\n",
    "#ECHO ptt Start ====================================\n",
    "fetchdays = 1\n",
    "yesterday_temp = datetime.now() - timedelta(days = fetchdays)\n",
    "yesterday_date = yesterday_temp.strftime(\"%Y-%m-%d\")\n",
    "today_date = datetime.now().strftime(\"%Y-%m-%d\")\n",
    "ary1 = str(yesterday_date).split(\"-\")\n",
    "start = datetime(int(ary1[0]),int(ary1[1]),int(ary1[2]), 0, 0, 0)\n",
    "ary1 = str(today_date).split(\"-\")\n",
    "end =  datetime(int(ary1[0]),int(ary1[1]),int(ary1[2]), 23, 59, 59)\n",
    "#debug\n",
    "start = datetime(2020, 10, 8, 0, 0, 0)\n",
    "end = datetime(2020, 11, 15, 23, 59, 59)\n",
    "client = mg.MongoClient('127.0.0.1:27017')\n",
    "db = client[\"ptt\"]\n",
    "col = db['Gossiping']\n",
    "sort = [(\"date\", -1)]\n",
    "result = col.find({\"date\":{'$gte': start, '$lte': end}})\n",
    "#result = col.find({\"date\":{'$gte': start, '$lte': end}}).limit(100)\n",
    "#result = col.find({\"date\":{'$gte': start, '$lte': end}}).sort(sort).limit(100)\n",
    "# result = col.find({\"date\":{'$gte': start, '$lte': end}})\n",
    "# result = col.find({\"url\":\"https://www.ptt.cc/bbs/Gossiping/M.1507319547.A.8CF.html\",\"date\":{'$gte': start, '$lte': end} })\n",
    "result  =  list(result)\n",
    "#ECHO ptt End ====================================\n",
    "\n",
    "\n",
    "#Own ptt Start ====================================\n",
    "# client = mg.MongoClient('127.0.0.1:27017')\n",
    "# db = client['ptt'] #DBName: ptt\n",
    "# start = datetime(2017, 9, 14, 0, 0, 0)\n",
    "# end = datetime(2017, 9, 19, 23, 59, 59)\n",
    "# result = db['Gossiping'].find({ 'date':{'$gte':start,'$lte':end } })\n",
    "# result  =  list(result)\n",
    "#Own ptt End ====================================\n",
    "\n",
    "temp_dict = {}\n",
    "date_dict = {}\n",
    "for x in result:\n",
    "    temp_dict[ x['url'] ] = x\n",
    "\n",
    "print (\"distinct %s records found.\" % (len(temp_dict) ) )\n",
    "\n",
    "post_dict = {}\n",
    "post_counter = 0\n",
    "last_sum = 0\n",
    "for x in temp_dict:\n",
    "    last_sum = 0\n",
    "    post_counter = 0\n",
    "    dt = temp_dict[x][\"date\"].strftime(\"%Y-%m-%d\")\n",
    "    try:\n",
    "        last_sum = post_dict[dt]['counter']\n",
    "        post_dict[dt]={'counter':last_sum+1}\n",
    "    except Exception as e:\n",
    "        post_counter = post_counter+1\n",
    "        post_dict[dt]={'counter':post_counter}\n",
    "        pass\n",
    "\n",
    "x_axis = []\n",
    "y_axis = []\n",
    "for x in post_dict:\n",
    "    x_axis.append(x)\n",
    "    y_axis.append(post_dict[x]['counter'])\n",
    "\n",
    "zipped = zip(x_axis, y_axis)\n",
    "x_axis = []\n",
    "y_axis = []\n",
    "zipped = sorted(zipped, key=lambda x: x[0])\n",
    "for x in zipped:\n",
    "    x_axis.append(x[0])\n",
    "    y_axis.append(x[1])\n",
    "print(x_axis)\n",
    "print(y_axis)"
   ]
  },
  {
   "cell_type": "code",
   "execution_count": 2,
   "metadata": {},
   "outputs": [
    {
     "data": {
      "text/html": [
       "<script>requirejs.config({paths: { 'plotly': ['https://cdn.plot.ly/plotly-latest.min']},});if(!window.Plotly) {{require(['plotly'],function(plotly) {window.Plotly=plotly;});}}</script>"
      ],
      "text/vnd.plotly.v1+html": [
       "<script>requirejs.config({paths: { 'plotly': ['https://cdn.plot.ly/plotly-latest.min']},});if(!window.Plotly) {{require(['plotly'],function(plotly) {window.Plotly=plotly;});}}</script>"
      ]
     },
     "metadata": {},
     "output_type": "display_data"
    },
    {
     "data": {
      "application/vnd.plotly.v1+json": {
       "data": [
        {
         "x": [
          "2020-10-11",
          "2020-10-21",
          "2020-10-23",
          "2020-10-24"
         ],
         "y": [
          2,
          1,
          1,
          54
         ]
        }
       ],
       "layout": {
        "title": "David PTT 八卦版每日發文數統計"
       }
      },
      "text/html": [
       "<div id=\"867605a8-1c4f-4ccb-ad06-7f586c4d9792\" style=\"height: 525px; width: 100%;\" class=\"plotly-graph-div\"></div><script type=\"text/javascript\">require([\"plotly\"], function(Plotly) { window.PLOTLYENV=window.PLOTLYENV || {};window.PLOTLYENV.BASE_URL=\"https://plot.ly\";Plotly.newPlot(\"867605a8-1c4f-4ccb-ad06-7f586c4d9792\", [{\"x\": [\"2020-10-11\", \"2020-10-21\", \"2020-10-23\", \"2020-10-24\"], \"y\": [2, 1, 1, 54]}], {\"title\": \"David PTT \\u516b\\u5366\\u7248\\u6bcf\\u65e5\\u767c\\u6587\\u6578\\u7d71\\u8a08\"}, {\"showLink\": true, \"linkText\": \"Export to plot.ly\"})});</script>"
      ],
      "text/vnd.plotly.v1+html": [
       "<div id=\"867605a8-1c4f-4ccb-ad06-7f586c4d9792\" style=\"height: 525px; width: 100%;\" class=\"plotly-graph-div\"></div><script type=\"text/javascript\">require([\"plotly\"], function(Plotly) { window.PLOTLYENV=window.PLOTLYENV || {};window.PLOTLYENV.BASE_URL=\"https://plot.ly\";Plotly.newPlot(\"867605a8-1c4f-4ccb-ad06-7f586c4d9792\", [{\"x\": [\"2020-10-11\", \"2020-10-21\", \"2020-10-23\", \"2020-10-24\"], \"y\": [2, 1, 1, 54]}], {\"title\": \"David PTT \\u516b\\u5366\\u7248\\u6bcf\\u65e5\\u767c\\u6587\\u6578\\u7d71\\u8a08\"}, {\"showLink\": true, \"linkText\": \"Export to plot.ly\"})});</script>"
      ]
     },
     "metadata": {},
     "output_type": "display_data"
    }
   ],
   "source": [
    "plotly.offline.init_notebook_mode(connected=True)\n",
    "plotly.offline.iplot({\n",
    "        \"data\": [{\n",
    "                \"x\": x_axis,\n",
    "                \"y\": y_axis\n",
    "            }],\n",
    "        \"layout\": {\n",
    "            \"title\": \"David PTT 八卦版每日發文數統計\"\n",
    "        }\n",
    "    })"
   ]
  },
  {
   "cell_type": "code",
   "execution_count": 3,
   "metadata": {},
   "outputs": [
    {
     "name": "stdout",
     "output_type": "stream",
     "text": [
      "['2020-10-11', '2020-10-21', '2020-10-23', '2020-10-24']\n",
      "[45, 9, 30, 192]\n"
     ]
    }
   ],
   "source": [
    "tmp_score = 0\n",
    "lastSumScore = 0\n",
    "for x in temp_dict:\n",
    "    dt = temp_dict[x][\"date\"].strftime(\"%Y-%m-%d\")\n",
    "    #print(dt)\n",
    "    try:\n",
    "        #print(temp_dict[x]['comments'])\n",
    "        score = 0\n",
    "        for y in list(temp_dict[x]['comments']):\n",
    "            try:\n",
    "                lastSumScore = date_dict[dt]['score']\n",
    "                score = lastSumScore+y['score']\n",
    "                date_dict[dt]={'date':dt,'score':score}\n",
    "            except Exception as e:\n",
    "                score = y['score']\n",
    "                date_dict[dt]={'date':dt,'score':score}\n",
    "                pass\n",
    "    except Exception as e:\n",
    "        #print('Exception:'+str(e))\n",
    "        pass\n",
    "#print(date_dict)\n",
    "x_axis = []\n",
    "y_axis = []\n",
    "for x in date_dict:\n",
    "    x_axis.append(x)\n",
    "    y_axis.append(date_dict[x]['score'])\n",
    "\n",
    "zipped = zip(x_axis, y_axis)\n",
    "x_axis = []\n",
    "y_axis = []\n",
    "zipped = sorted(zipped, key=lambda x: x[0])\n",
    "for x in zipped:\n",
    "    x_axis.append(x[0])\n",
    "    y_axis.append(x[1])\n",
    "print(x_axis)\n",
    "print(y_axis)"
   ]
  },
  {
   "cell_type": "code",
   "execution_count": 4,
   "metadata": {},
   "outputs": [
    {
     "data": {
      "text/html": [
       "<script>requirejs.config({paths: { 'plotly': ['https://cdn.plot.ly/plotly-latest.min']},});if(!window.Plotly) {{require(['plotly'],function(plotly) {window.Plotly=plotly;});}}</script>"
      ],
      "text/vnd.plotly.v1+html": [
       "<script>requirejs.config({paths: { 'plotly': ['https://cdn.plot.ly/plotly-latest.min']},});if(!window.Plotly) {{require(['plotly'],function(plotly) {window.Plotly=plotly;});}}</script>"
      ]
     },
     "metadata": {},
     "output_type": "display_data"
    },
    {
     "data": {
      "application/vnd.plotly.v1+json": {
       "data": [
        {
         "x": [
          "2020-10-11",
          "2020-10-21",
          "2020-10-23",
          "2020-10-24"
         ],
         "y": [
          45,
          9,
          30,
          192
         ]
        }
       ],
       "layout": {
        "title": "David PTT 八卦版每日互動(推-噓)觀察"
       }
      },
      "text/html": [
       "<div id=\"16ac68c5-f53c-4afd-80fa-b4df6c3d179a\" style=\"height: 525px; width: 100%;\" class=\"plotly-graph-div\"></div><script type=\"text/javascript\">require([\"plotly\"], function(Plotly) { window.PLOTLYENV=window.PLOTLYENV || {};window.PLOTLYENV.BASE_URL=\"https://plot.ly\";Plotly.newPlot(\"16ac68c5-f53c-4afd-80fa-b4df6c3d179a\", [{\"x\": [\"2020-10-11\", \"2020-10-21\", \"2020-10-23\", \"2020-10-24\"], \"y\": [45, 9, 30, 192]}], {\"title\": \"David PTT \\u516b\\u5366\\u7248\\u6bcf\\u65e5\\u4e92\\u52d5(\\u63a8-\\u5653)\\u89c0\\u5bdf\"}, {\"showLink\": true, \"linkText\": \"Export to plot.ly\"})});</script>"
      ],
      "text/vnd.plotly.v1+html": [
       "<div id=\"16ac68c5-f53c-4afd-80fa-b4df6c3d179a\" style=\"height: 525px; width: 100%;\" class=\"plotly-graph-div\"></div><script type=\"text/javascript\">require([\"plotly\"], function(Plotly) { window.PLOTLYENV=window.PLOTLYENV || {};window.PLOTLYENV.BASE_URL=\"https://plot.ly\";Plotly.newPlot(\"16ac68c5-f53c-4afd-80fa-b4df6c3d179a\", [{\"x\": [\"2020-10-11\", \"2020-10-21\", \"2020-10-23\", \"2020-10-24\"], \"y\": [45, 9, 30, 192]}], {\"title\": \"David PTT \\u516b\\u5366\\u7248\\u6bcf\\u65e5\\u4e92\\u52d5(\\u63a8-\\u5653)\\u89c0\\u5bdf\"}, {\"showLink\": true, \"linkText\": \"Export to plot.ly\"})});</script>"
      ]
     },
     "metadata": {},
     "output_type": "display_data"
    }
   ],
   "source": [
    "plotly.offline.init_notebook_mode(connected=True)\n",
    "plotly.offline.iplot({\n",
    "        \"data\": [{\n",
    "                \"x\": x_axis,\n",
    "                \"y\": y_axis\n",
    "            }],\n",
    "        \"layout\": {\n",
    "            \"title\": \"David PTT 八卦版每日互動(推-噓)觀察\"\n",
    "        }\n",
    "    })\n"
   ]
  },
  {
   "cell_type": "markdown",
   "metadata": {},
   "source": [
    "## Visualization"
   ]
  },
  {
   "cell_type": "code",
   "execution_count": 5,
   "metadata": {},
   "outputs": [
    {
     "data": {
      "text/plain": [
       "[{'_id': ObjectId('5f931cb2c977c309c738cebe'),\n",
       "  'board': 'Gossiping',\n",
       "  'title': '[問卦]  阿姨ㄧ直問「帥哥，聖傑勒？」',\n",
       "  'author': 'boxoxox',\n",
       "  'content': '\\n\\n剛剛朋友 出門買個宵夜的時候\\n\\n走在騎樓時遇到有個蠻漂亮的阿姨問他\\n\\n「帥哥，聖傑勒？」\\n\\n我朋友猜應該是阿姨叫勝傑的小孩走丟了\\n\\n才再半夜看到人就問\\n\\n不過看我朋友沒什麼反應\\n\\n阿姨好像也著急了 拉著我朋友手不放\\n\\n好像是想帶我朋友進她家看聖傑照片\\n\\n\\n但畢竟什麼資訊都沒有\\n\\n朋友只能先安撫阿姨說\\n\\n「大姐別擔心，我會想辦法幫你找找聖傑」\\n\\n但聽完這句話，阿姨就像看到神經病ㄧ樣\\n\\n直接走開，嘴裡還ㄧ直碎碎念\\n\\n搞的我朋友現在滿頭疑惑\\n\\n\\n\\n是我朋友搞錯什麼了嗎？有掛\\n\\n--\\n',\n",
       "  'date': datetime.datetime(2020, 10, 24, 2, 8, 52),\n",
       "  'ip': '110.54.239.220',\n",
       "  'locale': '(菲律賓)',\n",
       "  'comments': [],\n",
       "  'score': 0,\n",
       "  'url': 'https://www.ptt.cc/bbs/Gossiping/M.1603476534.A.530.html',\n",
       "  'updatetime': datetime.datetime(2020, 10, 23, 11, 10, 58, 917000)}]"
      ]
     },
     "execution_count": 5,
     "metadata": {},
     "output_type": "execute_result"
    }
   ],
   "source": [
    "result[:1]"
   ]
  },
  {
   "cell_type": "code",
   "execution_count": 6,
   "metadata": {},
   "outputs": [
    {
     "data": {
      "text/html": [
       "<div>\n",
       "<style scoped>\n",
       "    .dataframe tbody tr th:only-of-type {\n",
       "        vertical-align: middle;\n",
       "    }\n",
       "\n",
       "    .dataframe tbody tr th {\n",
       "        vertical-align: top;\n",
       "    }\n",
       "\n",
       "    .dataframe thead th {\n",
       "        text-align: right;\n",
       "    }\n",
       "</style>\n",
       "<table border=\"1\" class=\"dataframe\">\n",
       "  <thead>\n",
       "    <tr style=\"text-align: right;\">\n",
       "      <th></th>\n",
       "      <th>_id</th>\n",
       "      <th>author</th>\n",
       "      <th>board</th>\n",
       "      <th>comments</th>\n",
       "      <th>content</th>\n",
       "      <th>date</th>\n",
       "      <th>ip</th>\n",
       "      <th>locale</th>\n",
       "      <th>score</th>\n",
       "      <th>title</th>\n",
       "      <th>updatetime</th>\n",
       "      <th>url</th>\n",
       "    </tr>\n",
       "  </thead>\n",
       "  <tbody>\n",
       "    <tr>\n",
       "      <th>0</th>\n",
       "      <td>5f931cb2c977c309c738cebe</td>\n",
       "      <td>boxoxox</td>\n",
       "      <td>Gossiping</td>\n",
       "      <td>[]</td>\n",
       "      <td>\\n\\n剛剛朋友 出門買個宵夜的時候\\n\\n走在騎樓時遇到有個蠻漂亮的阿姨問他\\n\\n「帥哥...</td>\n",
       "      <td>2020-10-24 02:08:52</td>\n",
       "      <td>110.54.239.220</td>\n",
       "      <td>(菲律賓)</td>\n",
       "      <td>0</td>\n",
       "      <td>[問卦]  阿姨ㄧ直問「帥哥，聖傑勒？」</td>\n",
       "      <td>2020-10-23 11:10:58.917</td>\n",
       "      <td>https://www.ptt.cc/bbs/Gossiping/M.1603476534....</td>\n",
       "    </tr>\n",
       "  </tbody>\n",
       "</table>\n",
       "</div>"
      ],
      "text/plain": [
       "                        _id   author      board comments  \\\n",
       "0  5f931cb2c977c309c738cebe  boxoxox  Gossiping       []   \n",
       "\n",
       "                                             content                date  \\\n",
       "0  \\n\\n剛剛朋友 出門買個宵夜的時候\\n\\n走在騎樓時遇到有個蠻漂亮的阿姨問他\\n\\n「帥哥... 2020-10-24 02:08:52   \n",
       "\n",
       "               ip locale  score                 title              updatetime  \\\n",
       "0  110.54.239.220  (菲律賓)      0  [問卦]  阿姨ㄧ直問「帥哥，聖傑勒？」 2020-10-23 11:10:58.917   \n",
       "\n",
       "                                                 url  \n",
       "0  https://www.ptt.cc/bbs/Gossiping/M.1603476534....  "
      ]
     },
     "execution_count": 6,
     "metadata": {},
     "output_type": "execute_result"
    }
   ],
   "source": [
    "import pandas as pd\n",
    "\n",
    "df = pd.DataFrame(result)\n",
    "df.head(1)"
   ]
  },
  {
   "cell_type": "code",
   "execution_count": 7,
   "metadata": {},
   "outputs": [],
   "source": [
    "from datetime import datetime as dt\n",
    "\n",
    "def weekday(posts):\n",
    "    weekdays = []\n",
    "    for post in posts:\n",
    "        weekdays.append(dt.strptime(post, \"%Y-%m-%d %H:%M:%S\").weekday()+1)\n",
    "    return weekdays\n",
    "\n",
    "def hour(posts):\n",
    "    hours = []\n",
    "    for post in posts:\n",
    "        hours.append(dt.strptime(post, \"%Y-%m-%d %H:%M:%S\").hour)\n",
    "    return hours\n",
    "\n",
    "def day(posts):\n",
    "    days = []\n",
    "    for post in posts:\n",
    "        days.append(dt.strptime(post, \"%Y-%m-%d %H:%M:%S\").strftime('%Y-%m-%d'))\n",
    "    return days"
   ]
  },
  {
   "cell_type": "code",
   "execution_count": 8,
   "metadata": {},
   "outputs": [
    {
     "data": {
      "text/html": [
       "<div>\n",
       "<style scoped>\n",
       "    .dataframe tbody tr th:only-of-type {\n",
       "        vertical-align: middle;\n",
       "    }\n",
       "\n",
       "    .dataframe tbody tr th {\n",
       "        vertical-align: top;\n",
       "    }\n",
       "\n",
       "    .dataframe thead th {\n",
       "        text-align: right;\n",
       "    }\n",
       "</style>\n",
       "<table border=\"1\" class=\"dataframe\">\n",
       "  <thead>\n",
       "    <tr style=\"text-align: right;\">\n",
       "      <th></th>\n",
       "      <th>_id</th>\n",
       "      <th>author</th>\n",
       "      <th>board</th>\n",
       "      <th>comments</th>\n",
       "      <th>content</th>\n",
       "      <th>date</th>\n",
       "      <th>ip</th>\n",
       "      <th>locale</th>\n",
       "      <th>score</th>\n",
       "      <th>title</th>\n",
       "      <th>updatetime</th>\n",
       "      <th>url</th>\n",
       "      <th>hour</th>\n",
       "      <th>weekday</th>\n",
       "      <th>post_date</th>\n",
       "    </tr>\n",
       "  </thead>\n",
       "  <tbody>\n",
       "    <tr>\n",
       "      <th>0</th>\n",
       "      <td>5f931cb2c977c309c738cebe</td>\n",
       "      <td>boxoxox</td>\n",
       "      <td>Gossiping</td>\n",
       "      <td>[]</td>\n",
       "      <td>\\n\\n剛剛朋友 出門買個宵夜的時候\\n\\n走在騎樓時遇到有個蠻漂亮的阿姨問他\\n\\n「帥哥...</td>\n",
       "      <td>2020-10-24 02:08:52</td>\n",
       "      <td>110.54.239.220</td>\n",
       "      <td>(菲律賓)</td>\n",
       "      <td>0</td>\n",
       "      <td>[問卦]  阿姨ㄧ直問「帥哥，聖傑勒？」</td>\n",
       "      <td>2020-10-23 11:10:58.917</td>\n",
       "      <td>https://www.ptt.cc/bbs/Gossiping/M.1603476534....</td>\n",
       "      <td>2</td>\n",
       "      <td>6</td>\n",
       "      <td>2020-10-24</td>\n",
       "    </tr>\n",
       "  </tbody>\n",
       "</table>\n",
       "</div>"
      ],
      "text/plain": [
       "                        _id   author      board comments  \\\n",
       "0  5f931cb2c977c309c738cebe  boxoxox  Gossiping       []   \n",
       "\n",
       "                                             content                date  \\\n",
       "0  \\n\\n剛剛朋友 出門買個宵夜的時候\\n\\n走在騎樓時遇到有個蠻漂亮的阿姨問他\\n\\n「帥哥... 2020-10-24 02:08:52   \n",
       "\n",
       "               ip locale  score                 title              updatetime  \\\n",
       "0  110.54.239.220  (菲律賓)      0  [問卦]  阿姨ㄧ直問「帥哥，聖傑勒？」 2020-10-23 11:10:58.917   \n",
       "\n",
       "                                                 url  hour  weekday  \\\n",
       "0  https://www.ptt.cc/bbs/Gossiping/M.1603476534....     2        6   \n",
       "\n",
       "    post_date  \n",
       "0  2020-10-24  "
      ]
     },
     "execution_count": 8,
     "metadata": {},
     "output_type": "execute_result"
    }
   ],
   "source": [
    "df['hour'] = hour(df['date'].astype(str))\n",
    "df['weekday'] = weekday(df['date'].astype(str))\n",
    "df['post_date'] = day(df['date'].astype(str))\n",
    "df.head(1)"
   ]
  },
  {
   "cell_type": "markdown",
   "metadata": {
    "collapsed": true
   },
   "source": [
    "## 周間、24小時鄉民 發文 的熱度"
   ]
  },
  {
   "cell_type": "code",
   "execution_count": 9,
   "metadata": {},
   "outputs": [],
   "source": [
    "import matplotlib.pyplot as plt\n",
    "import json\n",
    "%matplotlib inline"
   ]
  },
  {
   "cell_type": "code",
   "execution_count": 10,
   "metadata": {},
   "outputs": [
    {
     "data": {
      "image/png": "[encoded data removed]",
      "text/plain": [
       "<Figure size 1728x504 with 2 Axes>"
      ]
     },
     "metadata": {
      "needs_background": "light"
     },
     "output_type": "display_data"
    }
   ],
   "source": [
    "plt.figure(figsize=(24,7))\n",
    "plt.hist2d(df['hour'], df['weekday'],bins=[24,7], label=['hi','hi'],cmap=plt.cm.plasma)\n",
    "plt.colorbar()\n",
    "plt.show()"
   ]
  },
  {
   "cell_type": "markdown",
   "metadata": {},
   "source": [
    "### scatter by followers count and post count"
   ]
  },
  {
   "cell_type": "code",
   "execution_count": 11,
   "metadata": {},
   "outputs": [
    {
     "data": {
      "text/html": [
       "<div>\n",
       "<style scoped>\n",
       "    .dataframe tbody tr th:only-of-type {\n",
       "        vertical-align: middle;\n",
       "    }\n",
       "\n",
       "    .dataframe tbody tr th {\n",
       "        vertical-align: top;\n",
       "    }\n",
       "\n",
       "    .dataframe thead th {\n",
       "        text-align: right;\n",
       "    }\n",
       "</style>\n",
       "<table border=\"1\" class=\"dataframe\">\n",
       "  <thead>\n",
       "    <tr style=\"text-align: right;\">\n",
       "      <th></th>\n",
       "      <th>_id</th>\n",
       "      <th>author</th>\n",
       "      <th>board</th>\n",
       "      <th>comments</th>\n",
       "      <th>content</th>\n",
       "      <th>date</th>\n",
       "      <th>ip</th>\n",
       "      <th>locale</th>\n",
       "      <th>score</th>\n",
       "      <th>title</th>\n",
       "      <th>updatetime</th>\n",
       "      <th>url</th>\n",
       "      <th>hour</th>\n",
       "      <th>weekday</th>\n",
       "      <th>post_date</th>\n",
       "      <th>reaction</th>\n",
       "    </tr>\n",
       "  </thead>\n",
       "  <tbody>\n",
       "    <tr>\n",
       "      <th>0</th>\n",
       "      <td>5f931cb2c977c309c738cebe</td>\n",
       "      <td>boxoxox</td>\n",
       "      <td>Gossiping</td>\n",
       "      <td>[]</td>\n",
       "      <td>\\n\\n剛剛朋友 出門買個宵夜的時候\\n\\n走在騎樓時遇到有個蠻漂亮的阿姨問他\\n\\n「帥哥...</td>\n",
       "      <td>2020-10-24 02:08:52</td>\n",
       "      <td>110.54.239.220</td>\n",
       "      <td>(菲律賓)</td>\n",
       "      <td>0</td>\n",
       "      <td>[問卦]  阿姨ㄧ直問「帥哥，聖傑勒？」</td>\n",
       "      <td>2020-10-23 11:10:58.917</td>\n",
       "      <td>https://www.ptt.cc/bbs/Gossiping/M.1603476534....</td>\n",
       "      <td>2</td>\n",
       "      <td>6</td>\n",
       "      <td>2020-10-24</td>\n",
       "      <td>0</td>\n",
       "    </tr>\n",
       "  </tbody>\n",
       "</table>\n",
       "</div>"
      ],
      "text/plain": [
       "                        _id   author      board comments  \\\n",
       "0  5f931cb2c977c309c738cebe  boxoxox  Gossiping       []   \n",
       "\n",
       "                                             content                date  \\\n",
       "0  \\n\\n剛剛朋友 出門買個宵夜的時候\\n\\n走在騎樓時遇到有個蠻漂亮的阿姨問他\\n\\n「帥哥... 2020-10-24 02:08:52   \n",
       "\n",
       "               ip locale  score                 title              updatetime  \\\n",
       "0  110.54.239.220  (菲律賓)      0  [問卦]  阿姨ㄧ直問「帥哥，聖傑勒？」 2020-10-23 11:10:58.917   \n",
       "\n",
       "                                                 url  hour  weekday  \\\n",
       "0  https://www.ptt.cc/bbs/Gossiping/M.1603476534....     2        6   \n",
       "\n",
       "    post_date  reaction  \n",
       "0  2020-10-24         0  "
      ]
     },
     "execution_count": 11,
     "metadata": {},
     "output_type": "execute_result"
    }
   ],
   "source": [
    "import json\n",
    "\n",
    "# display all comments from ptt post\n",
    "# pd.set_option('display.max_colwidth', -1)\n",
    "\n",
    "df[\"reaction\"] = df[\"comments\"].apply(lambda x: len(x))\n",
    "#df[\"comment_word_count\"] = df[\"comments\"].apply(lambda x: len(x))\n",
    "df.head(1)"
   ]
  },
  {
   "cell_type": "code",
   "execution_count": 12,
   "metadata": {},
   "outputs": [
    {
     "data": {
      "text/html": [
       "<div>\n",
       "<style scoped>\n",
       "    .dataframe tbody tr th:only-of-type {\n",
       "        vertical-align: middle;\n",
       "    }\n",
       "\n",
       "    .dataframe tbody tr th {\n",
       "        vertical-align: top;\n",
       "    }\n",
       "\n",
       "    .dataframe thead th {\n",
       "        text-align: right;\n",
       "    }\n",
       "</style>\n",
       "<table border=\"1\" class=\"dataframe\">\n",
       "  <thead>\n",
       "    <tr style=\"text-align: right;\">\n",
       "      <th></th>\n",
       "      <th>_id</th>\n",
       "      <th>author</th>\n",
       "      <th>board</th>\n",
       "      <th>comments</th>\n",
       "      <th>content</th>\n",
       "      <th>date</th>\n",
       "      <th>ip</th>\n",
       "      <th>locale</th>\n",
       "      <th>score</th>\n",
       "      <th>title</th>\n",
       "      <th>updatetime</th>\n",
       "      <th>url</th>\n",
       "      <th>hour</th>\n",
       "      <th>weekday</th>\n",
       "      <th>post_date</th>\n",
       "      <th>reaction</th>\n",
       "      <th>comment_raw</th>\n",
       "      <th>comment_length</th>\n",
       "      <th>comment_avg_length</th>\n",
       "    </tr>\n",
       "  </thead>\n",
       "  <tbody>\n",
       "    <tr>\n",
       "      <th>0</th>\n",
       "      <td>5f931cb2c977c309c738cebe</td>\n",
       "      <td>boxoxox</td>\n",
       "      <td>Gossiping</td>\n",
       "      <td>[]</td>\n",
       "      <td>\\n\\n剛剛朋友 出門買個宵夜的時候\\n\\n走在騎樓時遇到有個蠻漂亮的阿姨問他\\n\\n「帥哥...</td>\n",
       "      <td>2020-10-24 02:08:52</td>\n",
       "      <td>110.54.239.220</td>\n",
       "      <td>(菲律賓)</td>\n",
       "      <td>0</td>\n",
       "      <td>[問卦]  阿姨ㄧ直問「帥哥，聖傑勒？」</td>\n",
       "      <td>2020-10-23 11:10:58.917</td>\n",
       "      <td>https://www.ptt.cc/bbs/Gossiping/M.1603476534....</td>\n",
       "      <td>2</td>\n",
       "      <td>6</td>\n",
       "      <td>2020-10-24</td>\n",
       "      <td>0</td>\n",
       "      <td></td>\n",
       "      <td>0</td>\n",
       "      <td>0</td>\n",
       "    </tr>\n",
       "  </tbody>\n",
       "</table>\n",
       "</div>"
      ],
      "text/plain": [
       "                        _id   author      board comments  \\\n",
       "0  5f931cb2c977c309c738cebe  boxoxox  Gossiping       []   \n",
       "\n",
       "                                             content                date  \\\n",
       "0  \\n\\n剛剛朋友 出門買個宵夜的時候\\n\\n走在騎樓時遇到有個蠻漂亮的阿姨問他\\n\\n「帥哥... 2020-10-24 02:08:52   \n",
       "\n",
       "               ip locale  score                 title              updatetime  \\\n",
       "0  110.54.239.220  (菲律賓)      0  [問卦]  阿姨ㄧ直問「帥哥，聖傑勒？」 2020-10-23 11:10:58.917   \n",
       "\n",
       "                                                 url  hour  weekday  \\\n",
       "0  https://www.ptt.cc/bbs/Gossiping/M.1603476534....     2        6   \n",
       "\n",
       "    post_date  reaction comment_raw  comment_length  comment_avg_length  \n",
       "0  2020-10-24         0                           0                   0  "
      ]
     },
     "execution_count": 12,
     "metadata": {},
     "output_type": "execute_result"
    }
   ],
   "source": [
    "df[\"comment_raw\"] = df[\"comments\"].apply(lambda x: \" \".join([word['content'].strip(': ') for word in x]))\n",
    "df['comment_length'] = df[\"comment_raw\"].apply(len)\n",
    "df['comment_avg_length'] = (df[\"comment_length\"]/df[\"reaction\"])\n",
    "df['comment_avg_length'].fillna(0, inplace=True)\n",
    "df['comment_avg_length'] = df['comment_avg_length'].astype(int)\n",
    "df.head(1)"
   ]
  },
  {
   "cell_type": "code",
   "execution_count": 13,
   "metadata": {},
   "outputs": [
    {
     "data": {
      "text/html": [
       "<div>\n",
       "<style scoped>\n",
       "    .dataframe tbody tr th:only-of-type {\n",
       "        vertical-align: middle;\n",
       "    }\n",
       "\n",
       "    .dataframe tbody tr th {\n",
       "        vertical-align: top;\n",
       "    }\n",
       "\n",
       "    .dataframe thead th {\n",
       "        text-align: right;\n",
       "    }\n",
       "</style>\n",
       "<table border=\"1\" class=\"dataframe\">\n",
       "  <thead>\n",
       "    <tr style=\"text-align: right;\">\n",
       "      <th></th>\n",
       "      <th>_id</th>\n",
       "      <th>author</th>\n",
       "      <th>board</th>\n",
       "      <th>comments</th>\n",
       "      <th>content</th>\n",
       "      <th>date</th>\n",
       "      <th>ip</th>\n",
       "      <th>locale</th>\n",
       "      <th>score</th>\n",
       "      <th>title</th>\n",
       "      <th>updatetime</th>\n",
       "      <th>url</th>\n",
       "      <th>hour</th>\n",
       "      <th>weekday</th>\n",
       "      <th>post_date</th>\n",
       "      <th>reaction</th>\n",
       "      <th>comment_raw</th>\n",
       "      <th>comment_length</th>\n",
       "      <th>comment_avg_length</th>\n",
       "    </tr>\n",
       "  </thead>\n",
       "  <tbody>\n",
       "  </tbody>\n",
       "</table>\n",
       "</div>"
      ],
      "text/plain": [
       "Empty DataFrame\n",
       "Columns: [_id, author, board, comments, content, date, ip, locale, score, title, updatetime, url, hour, weekday, post_date, reaction, comment_raw, comment_length, comment_avg_length]\n",
       "Index: []"
      ]
     },
     "execution_count": 13,
     "metadata": {},
     "output_type": "execute_result"
    }
   ],
   "source": [
    "df.loc[df['comment_avg_length'] > 20]"
   ]
  },
  {
   "cell_type": "code",
   "execution_count": 14,
   "metadata": {},
   "outputs": [],
   "source": [
    "groupbyUsermMean = df.groupby('author').mean()"
   ]
  },
  {
   "cell_type": "code",
   "execution_count": 15,
   "metadata": {},
   "outputs": [
    {
     "data": {
      "image/png": "[encoded data removed]",
      "text/plain": [
       "<Figure size 1440x720 with 1 Axes>"
      ]
     },
     "metadata": {
      "needs_background": "light"
     },
     "output_type": "display_data"
    }
   ],
   "source": [
    "ax = plt.subplots(ncols=1,figsize=(20,10))\n",
    "ax[1].title.set_text('Linear Scale')\n",
    "groupbyUsermMean.plot.scatter(x='reaction',y='score',c='DarkBlue',ax=ax[1], s=15)\n",
    "plt.show()"
   ]
  },
  {
   "cell_type": "code",
   "execution_count": 16,
   "metadata": {},
   "outputs": [
    {
     "data": {
      "image/png": "[encoded data removed]",
      "text/plain": [
       "<Figure size 1440x720 with 1 Axes>"
      ]
     },
     "metadata": {
      "needs_background": "light"
     },
     "output_type": "display_data"
    }
   ],
   "source": [
    "ax = plt.subplots(ncols=1,figsize=(20,10))\n",
    "ax[1].title.set_text('Linear Scale')\n",
    "groupbyUsermMean.plot.scatter(x='reaction',y='comment_avg_length',c='DarkBlue',ax=ax[1], s=15)\n",
    "plt.show()"
   ]
  },
  {
   "cell_type": "code",
   "execution_count": 17,
   "metadata": {},
   "outputs": [
    {
     "data": {
      "image/png": "[encoded data removed]",
      "text/plain": [
       "<Figure size 1080x360 with 1 Axes>"
      ]
     },
     "metadata": {
      "needs_background": "light"
     },
     "output_type": "display_data"
    }
   ],
   "source": [
    "plot = groupbyUsermMean[['score','reaction', 'hour']].plot.box(figsize=(15,5), vert=False, showfliers=False)"
   ]
  },
  {
   "cell_type": "code",
   "execution_count": 18,
   "metadata": {},
   "outputs": [
    {
     "data": {
      "image/png": "[encoded data removed]",
      "text/plain": [
       "<Figure size 1080x360 with 1 Axes>"
      ]
     },
     "metadata": {
      "needs_background": "light"
     },
     "output_type": "display_data"
    }
   ],
   "source": [
    "plot = groupbyUsermMean[['score','reaction', 'comment_avg_length']].plot.box(figsize=(15,5), vert=False, showfliers=False)"
   ]
  },
  {
   "cell_type": "code",
   "execution_count": null,
   "metadata": {},
   "outputs": [],
   "source": [
    "# 平均單則留言字數在 10 字左右\n",
    "df['comment_avg_length'].value_counts().plot(kind=\"bar\", rot=0)"
   ]
  },
  {
   "cell_type": "code",
   "execution_count": null,
   "metadata": {},
   "outputs": [],
   "source": [
    "import seaborn as sns\n",
    "%matplotlib inline\n",
    "\n",
    "sns.heatmap(df.corr(), cmap='coolwarm', annot=True)"
   ]
  },
  {
   "cell_type": "code",
   "execution_count": null,
   "metadata": {},
   "outputs": [],
   "source": []
  },
  {
   "cell_type": "code",
   "execution_count": null,
   "metadata": {},
   "outputs": [],
   "source": []
  }
 ],
 "metadata": {
  "anaconda-cloud": {},
  "kernelspec": {
   "display_name": "Python 3",
   "language": "python",
   "name": "python3"
  },
  "language_info": {
   "codemirror_mode": {
    "name": "ipython",
    "version": 3
   },
   "file_extension": ".py",
   "mimetype": "text/x-python",
   "name": "python",
   "nbconvert_exporter": "python",
   "pygments_lexer": "ipython3",
   "version": "3.7.3"
  }
 },
 "nbformat": 4,
 "nbformat_minor": 1
}
