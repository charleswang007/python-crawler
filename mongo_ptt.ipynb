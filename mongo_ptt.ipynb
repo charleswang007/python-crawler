{
 "cells": [
  {
   "cell_type": "code",
   "execution_count": 2,
   "metadata": {},
   "outputs": [
    {
     "name": "stdout",
     "output_type": "stream",
     "text": [
      "distinct 58 records found.\n",
      "['2020-10-11:00', '2020-10-11:15', '2020-10-21:12', '2020-10-23:00', '2020-10-24:01', '2020-10-24:02']\n",
      "[1, 1, 1, 1, 42, 12]\n"
     ]
    }
   ],
   "source": [
    "# -*- coding: utf-8 -*-\n",
    "import pymongo as mg\n",
    "import datetime\n",
    "import plotly\n",
    "from datetime import datetime, timedelta\n",
    "\n",
    "%config IPCompleter.greedy=True\n",
    "\n",
    "#ECHO ptt Start ====================================\n",
    "fetchdays = 1\n",
    "yesterday_temp = datetime.now() - timedelta(days = fetchdays)\n",
    "yesterday_date = yesterday_temp.strftime(\"%Y-%m-%d\")\n",
    "today_date = datetime.now().strftime(\"%Y-%m-%d\")\n",
    "ary1 = str(yesterday_date).split(\"-\")\n",
    "start = datetime(int(ary1[0]),int(ary1[1]),int(ary1[2]), 0, 0, 0)\n",
    "ary1 = str(today_date).split(\"-\")\n",
    "end =  datetime(int(ary1[0]),int(ary1[1]),int(ary1[2]), 23, 59, 59)\n",
    "\n",
    "start = datetime(2020, 10, 8, 0, 0, 0)\n",
    "end = datetime(2020, 11, 15, 23, 59, 59)\n",
    "client = mg.MongoClient('127.0.0.1:27017')\n",
    "db = client[\"ptt\"]\n",
    "col = db['Gossiping']\n",
    "sort = [(\"date\", -1)]\n",
    "result = col.find({\"date\":{'$gte': start, '$lte': end}})\n",
    "result  =  list(result)\n",
    "\n",
    "temp_dict = {}\n",
    "date_dict = {}\n",
    "for x in result:\n",
    "    temp_dict[ x['url'] ] = x\n",
    "\n",
    "print (\"distinct %s records found.\" % (len(temp_dict) ) )\n",
    "\n",
    "post_dict = {}\n",
    "post_counter = 0\n",
    "last_sum = 0\n",
    "for x in temp_dict:\n",
    "    last_sum = 0\n",
    "    post_counter = 0\n",
    "    #dt = temp_dict[x][\"date\"].strftime(\"%Y-%m-%d\")\n",
    "    dt = temp_dict[x][\"date\"].strftime(\"%Y-%m-%d:%H\")\n",
    "    #dt = temp_dict[x][\"date\"].strftime(\"%Y-%m-%d:%H:%M:%S\")\n",
    "    try:\n",
    "        last_sum = post_dict[dt]['counter']\n",
    "        post_dict[dt]={'counter':last_sum+1}\n",
    "    except Exception as e:\n",
    "        post_counter = post_counter+1\n",
    "        post_dict[dt]={'counter':post_counter}\n",
    "        pass\n",
    "\n",
    "x_axis = []\n",
    "y_axis = []\n",
    "for x in post_dict:\n",
    "    x_axis.append(x)\n",
    "    y_axis.append(post_dict[x]['counter'])\n",
    "\n",
    "zipped = zip(x_axis, y_axis)\n",
    "x_axis = []\n",
    "y_axis = []\n",
    "zipped = sorted(zipped, key=lambda x: x[0])\n",
    "for x in zipped:\n",
    "    x_axis.append(x[0])\n",
    "    y_axis.append(x[1])\n",
    "print(x_axis)\n",
    "print(y_axis)"
   ]
  },
  {
   "cell_type": "code",
   "execution_count": 3,
   "metadata": {},
   "outputs": [
    {
     "data": {
      "text/html": [
       "<script>requirejs.config({paths: { 'plotly': ['https://cdn.plot.ly/plotly-latest.min']},});if(!window.Plotly) {{require(['plotly'],function(plotly) {window.Plotly=plotly;});}}</script>"
      ],
      "text/vnd.plotly.v1+html": [
       "<script>requirejs.config({paths: { 'plotly': ['https://cdn.plot.ly/plotly-latest.min']},});if(!window.Plotly) {{require(['plotly'],function(plotly) {window.Plotly=plotly;});}}</script>"
      ]
     },
     "metadata": {},
     "output_type": "display_data"
    },
    {
     "data": {
      "application/vnd.plotly.v1+json": {
       "data": [
        {
         "x": [
          "2020-10-11:00",
          "2020-10-11:15",
          "2020-10-21:12",
          "2020-10-23:00",
          "2020-10-24:01",
          "2020-10-24:02"
         ],
         "y": [
          1,
          1,
          1,
          1,
          42,
          12
         ]
        }
       ],
       "layout": {
        "title": "David PTT 八卦版每日發文數統計"
       }
      },
      "text/html": [
       "<div id=\"a03359b2-5ee0-48f9-9f4e-072eb2e65e0d\" style=\"height: 525px; width: 100%;\" class=\"plotly-graph-div\"></div><script type=\"text/javascript\">require([\"plotly\"], function(Plotly) { window.PLOTLYENV=window.PLOTLYENV || {};window.PLOTLYENV.BASE_URL=\"https://plot.ly\";Plotly.newPlot(\"a03359b2-5ee0-48f9-9f4e-072eb2e65e0d\", [{\"x\": [\"2020-10-11:00\", \"2020-10-11:15\", \"2020-10-21:12\", \"2020-10-23:00\", \"2020-10-24:01\", \"2020-10-24:02\"], \"y\": [1, 1, 1, 1, 42, 12]}], {\"title\": \"David PTT \\u516b\\u5366\\u7248\\u6bcf\\u65e5\\u767c\\u6587\\u6578\\u7d71\\u8a08\"}, {\"showLink\": true, \"linkText\": \"Export to plot.ly\"})});</script>"
      ],
      "text/vnd.plotly.v1+html": [
       "<div id=\"a03359b2-5ee0-48f9-9f4e-072eb2e65e0d\" style=\"height: 525px; width: 100%;\" class=\"plotly-graph-div\"></div><script type=\"text/javascript\">require([\"plotly\"], function(Plotly) { window.PLOTLYENV=window.PLOTLYENV || {};window.PLOTLYENV.BASE_URL=\"https://plot.ly\";Plotly.newPlot(\"a03359b2-5ee0-48f9-9f4e-072eb2e65e0d\", [{\"x\": [\"2020-10-11:00\", \"2020-10-11:15\", \"2020-10-21:12\", \"2020-10-23:00\", \"2020-10-24:01\", \"2020-10-24:02\"], \"y\": [1, 1, 1, 1, 42, 12]}], {\"title\": \"David PTT \\u516b\\u5366\\u7248\\u6bcf\\u65e5\\u767c\\u6587\\u6578\\u7d71\\u8a08\"}, {\"showLink\": true, \"linkText\": \"Export to plot.ly\"})});</script>"
      ]
     },
     "metadata": {},
     "output_type": "display_data"
    }
   ],
   "source": [
    "plotly.offline.init_notebook_mode(connected=True)\n",
    "plotly.offline.iplot({\n",
    "        \"data\": [{\n",
    "                \"x\": x_axis,\n",
    "                \"y\": y_axis\n",
    "            }],\n",
    "        \"layout\": {\n",
    "            \"title\": \"David PTT 八卦版每日發文數統計\"\n",
    "        }\n",
    "    })"
   ]
  },
  {
   "cell_type": "code",
   "execution_count": 4,
   "metadata": {},
   "outputs": [
    {
     "name": "stdout",
     "output_type": "stream",
     "text": [
      "['2020-10-11:00', '2020-10-11:15', '2020-10-21:12', '2020-10-23:00', '2020-10-24:01', '2020-10-24:02']\n",
      "[-1, 46, 9, 30, 191, 1]\n"
     ]
    }
   ],
   "source": [
    "tmp_score = 0\n",
    "lastSumScore = 0\n",
    "for x in temp_dict:\n",
    "    #dt = temp_dict[x][\"date\"].strftime(\"%Y-%m-%d\")\n",
    "    dt = temp_dict[x][\"date\"].strftime(\"%Y-%m-%d:%H\")\n",
    "    #print(dt)\n",
    "    try:\n",
    "        #print(temp_dict[x]['comments'])\n",
    "        score = 0\n",
    "        for y in list(temp_dict[x]['comments']):\n",
    "            try:\n",
    "                lastSumScore = date_dict[dt]['score']\n",
    "                score = lastSumScore+y['score']\n",
    "                date_dict[dt]={'date':dt,'score':score}\n",
    "            except Exception as e:\n",
    "                score = y['score']\n",
    "                date_dict[dt]={'date':dt,'score':score}\n",
    "                pass\n",
    "    except Exception as e:\n",
    "        #print('Exception:'+str(e))\n",
    "        pass\n",
    "#print(date_dict)\n",
    "x_axis = []\n",
    "y_axis = []\n",
    "for x in date_dict:\n",
    "    x_axis.append(x)\n",
    "    y_axis.append(date_dict[x]['score'])\n",
    "\n",
    "zipped = zip(x_axis, y_axis)\n",
    "x_axis = []\n",
    "y_axis = []\n",
    "zipped = sorted(zipped, key=lambda x: x[0])\n",
    "for x in zipped:\n",
    "    x_axis.append(x[0])\n",
    "    y_axis.append(x[1])\n",
    "print(x_axis)\n",
    "print(y_axis)"
   ]
  },
  {
   "cell_type": "code",
   "execution_count": 5,
   "metadata": {},
   "outputs": [
    {
     "data": {
      "text/html": [
       "<script>requirejs.config({paths: { 'plotly': ['https://cdn.plot.ly/plotly-latest.min']},});if(!window.Plotly) {{require(['plotly'],function(plotly) {window.Plotly=plotly;});}}</script>"
      ],
      "text/vnd.plotly.v1+html": [
       "<script>requirejs.config({paths: { 'plotly': ['https://cdn.plot.ly/plotly-latest.min']},});if(!window.Plotly) {{require(['plotly'],function(plotly) {window.Plotly=plotly;});}}</script>"
      ]
     },
     "metadata": {},
     "output_type": "display_data"
    },
    {
     "data": {
      "application/vnd.plotly.v1+json": {
       "data": [
        {
         "x": [
          "2020-10-11:00",
          "2020-10-11:15",
          "2020-10-21:12",
          "2020-10-23:00",
          "2020-10-24:01",
          "2020-10-24:02"
         ],
         "y": [
          -1,
          46,
          9,
          30,
          191,
          1
         ]
        }
       ],
       "layout": {
        "title": "David PTT 八卦版每日互動(推-噓)觀察"
       }
      },
      "text/html": [
       "<div id=\"223d4535-dc38-41dc-869f-433d84d45b92\" style=\"height: 525px; width: 100%;\" class=\"plotly-graph-div\"></div><script type=\"text/javascript\">require([\"plotly\"], function(Plotly) { window.PLOTLYENV=window.PLOTLYENV || {};window.PLOTLYENV.BASE_URL=\"https://plot.ly\";Plotly.newPlot(\"223d4535-dc38-41dc-869f-433d84d45b92\", [{\"x\": [\"2020-10-11:00\", \"2020-10-11:15\", \"2020-10-21:12\", \"2020-10-23:00\", \"2020-10-24:01\", \"2020-10-24:02\"], \"y\": [-1, 46, 9, 30, 191, 1]}], {\"title\": \"David PTT \\u516b\\u5366\\u7248\\u6bcf\\u65e5\\u4e92\\u52d5(\\u63a8-\\u5653)\\u89c0\\u5bdf\"}, {\"showLink\": true, \"linkText\": \"Export to plot.ly\"})});</script>"
      ],
      "text/vnd.plotly.v1+html": [
       "<div id=\"223d4535-dc38-41dc-869f-433d84d45b92\" style=\"height: 525px; width: 100%;\" class=\"plotly-graph-div\"></div><script type=\"text/javascript\">require([\"plotly\"], function(Plotly) { window.PLOTLYENV=window.PLOTLYENV || {};window.PLOTLYENV.BASE_URL=\"https://plot.ly\";Plotly.newPlot(\"223d4535-dc38-41dc-869f-433d84d45b92\", [{\"x\": [\"2020-10-11:00\", \"2020-10-11:15\", \"2020-10-21:12\", \"2020-10-23:00\", \"2020-10-24:01\", \"2020-10-24:02\"], \"y\": [-1, 46, 9, 30, 191, 1]}], {\"title\": \"David PTT \\u516b\\u5366\\u7248\\u6bcf\\u65e5\\u4e92\\u52d5(\\u63a8-\\u5653)\\u89c0\\u5bdf\"}, {\"showLink\": true, \"linkText\": \"Export to plot.ly\"})});</script>"
      ]
     },
     "metadata": {},
     "output_type": "display_data"
    }
   ],
   "source": [
    "plotly.offline.init_notebook_mode(connected=True)\n",
    "plotly.offline.iplot({\n",
    "        \"data\": [{\n",
    "                \"x\": x_axis,\n",
    "                \"y\": y_axis\n",
    "            }],\n",
    "        \"layout\": {\n",
    "            \"title\": \"David PTT 八卦版每日互動(推-噓)觀察\"\n",
    "        }\n",
    "    })\n"
   ]
  },
  {
   "cell_type": "code",
   "execution_count": null,
   "metadata": {},
   "outputs": [],
   "source": []
  }
 ],
 "metadata": {
  "anaconda-cloud": {},
  "kernelspec": {
   "display_name": "Python 3",
   "language": "python",
   "name": "python3"
  },
  "language_info": {
   "codemirror_mode": {
    "name": "ipython",
    "version": 3
   },
   "file_extension": ".py",
   "mimetype": "text/x-python",
   "name": "python",
   "nbconvert_exporter": "python",
   "pygments_lexer": "ipython3",
   "version": "3.7.3"
  }
 },
 "nbformat": 4,
 "nbformat_minor": 1
}
